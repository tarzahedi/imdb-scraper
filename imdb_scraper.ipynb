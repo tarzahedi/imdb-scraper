{
 "cells": [
  {
   "cell_type": "code",
   "execution_count": 1,
   "id": "5335e262-2baa-4b8f-95be-e157c6b30c8b",
   "metadata": {},
   "outputs": [],
   "source": [
    "# import libraries\n",
    "import requests\n",
    "from bs4 import BeautifulSoup\n",
    "import pandas as pd\n",
    "import numpy as np"
   ]
  },
  {
   "cell_type": "code",
   "execution_count": 2,
   "id": "12f9cc4a-7831-44bb-9d22-d9f8e16698bd",
   "metadata": {},
   "outputs": [],
   "source": [
    "# get English-translated titles from all the movies:\n",
    "url = \"https://www.imdb.com/search/title/?groups=top_1000&ref_=adv_prv\"\n",
    "headers = {\"Accept-Language\": \"en-US, en;q=0.5\"}\n",
    "results = requests.get(url, headers=headers)"
   ]
  },
  {
   "cell_type": "code",
   "execution_count": 3,
   "id": "b7300291-74dc-4525-b778-426128e19882",
   "metadata": {},
   "outputs": [
    {
     "data": {
      "text/plain": [
       "'\\n\\n<!DOCTYPE html>\\n<html\\n    xmlns:og=\"http://ogp.me/ns#\"\\n    xmlns:fb=\"http://www.facebook.com/2008/'"
      ]
     },
     "execution_count": 3,
     "metadata": {},
     "output_type": "execute_result"
    }
   ],
   "source": [
    "results.status_code\n",
    "results.text[:100]"
   ]
  },
  {
   "cell_type": "code",
   "execution_count": 4,
   "id": "b5d2c195-a186-44b5-985a-f87bd814856e",
   "metadata": {},
   "outputs": [],
   "source": [
    "soup = BeautifulSoup(results.text, \"html.parser\")\n",
    "#print(soup.prettify()[:1000])"
   ]
  },
  {
   "cell_type": "code",
   "execution_count": 5,
   "id": "6c5643a5-705e-4048-a6d0-77f0b9a94275",
   "metadata": {},
   "outputs": [],
   "source": [
    "# initialize empty lists where you'll store your data\n",
    "titles = []\n",
    "years = []\n",
    "time = []\n",
    "imdb_ratings = []\n",
    "metascores = []\n",
    "votes = []\n",
    "us_gross = []\n",
    "genres = []\n",
    "directors = []\n",
    "stars = []\n",
    "rankings = []\n",
    "links = []"
   ]
  },
  {
   "cell_type": "code",
   "execution_count": 6,
   "id": "3d225394-91d5-4c4d-bf65-0f995199d59f",
   "metadata": {},
   "outputs": [
    {
     "data": {
      "text/plain": [
       "50"
      ]
     },
     "execution_count": 6,
     "metadata": {},
     "output_type": "execute_result"
    }
   ],
   "source": [
    "movie_div = soup.find_all('div', class_='lister-item mode-advanced')\n",
    "#print(movie_div[0].prettify())\n",
    "len(movie_div)"
   ]
  },
  {
   "cell_type": "code",
   "execution_count": 7,
   "id": "dd1f831e-fa8c-4175-ad9c-8acea8d25c6c",
   "metadata": {},
   "outputs": [],
   "source": [
    "def extract_numbers(inputString):\n",
    "    out = ''\n",
    "    for char in inputString:\n",
    "        if char.isdigit():\n",
    "            out = out + char\n",
    "    return int(out)"
   ]
  },
  {
   "cell_type": "code",
   "execution_count": 8,
   "id": "ff11c12f-d17a-426b-a965-18dfce748041",
   "metadata": {},
   "outputs": [],
   "source": [
    "for container in movie_div:\n",
    "    \n",
    "    name = container.h3.a.text if container.h3.a.text else None\n",
    "    titles.append(name)\n",
    "    \n",
    "    year = container.h3.find('span', class_='lister-item-year').text if container.h3.find('span', class_='lister-item-year') else None\n",
    "    year = extract_numbers(year)\n",
    "    years.append(year)\n",
    "    \n",
    "    runtime = container.p.find('span', class_='runtime').text if container.p.find('span', class_='runtime').text else None\n",
    "    time.append(runtime)\n",
    "    \n",
    "    rating = float(container.strong.text)\n",
    "    imdb_ratings.append(rating)\n",
    "    \n",
    "    meta_score = container.find('span', class_='metascore').text\n",
    "    metascores.append(meta_score)\n",
    "    \n",
    "    nv = container.find_all('span', attrs={'name': 'nv'})\n",
    "    gross = None\n",
    "    vote = None\n",
    "    for elem in nv:\n",
    "        inp = elem.text\n",
    "        if '$' in inp:\n",
    "            gross = inp\n",
    "        elif '#' not in inp:\n",
    "            vote = inp\n",
    "    votes.append(vote)\n",
    "    us_gross.append(gross)"
   ]
  }
 ],
 "metadata": {
  "kernelspec": {
   "display_name": "Python 3 (ipykernel)",
   "language": "python",
   "name": "python3"
  },
  "language_info": {
   "codemirror_mode": {
    "name": "ipython",
    "version": 3
   },
   "file_extension": ".py",
   "mimetype": "text/x-python",
   "name": "python",
   "nbconvert_exporter": "python",
   "pygments_lexer": "ipython3",
   "version": "3.9.5"
  }
 },
 "nbformat": 4,
 "nbformat_minor": 5
}
