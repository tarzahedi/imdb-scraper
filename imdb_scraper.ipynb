{
 "cells": [
  {
   "cell_type": "code",
   "execution_count": 1,
   "id": "5335e262-2baa-4b8f-95be-e157c6b30c8b",
   "metadata": {},
   "outputs": [],
   "source": [
    "# import libraries\n",
    "import requests\n",
    "from bs4 import BeautifulSoup\n",
    "import pandas as pd\n",
    "import numpy as np"
   ]
  },
  {
   "cell_type": "code",
   "execution_count": 2,
   "id": "12f9cc4a-7831-44bb-9d22-d9f8e16698bd",
   "metadata": {},
   "outputs": [],
   "source": [
    "# get English-translated titles from all the movies:\n",
    "url = \"https://www.imdb.com/search/title/?groups=top_1000&ref_=adv_prv\"\n",
    "headers = {\"Accept-Language\": \"en-US, en;q=0.5\"}\n",
    "results = requests.get(url, headers=headers)"
   ]
  },
  {
   "cell_type": "code",
   "execution_count": 3,
   "id": "b7300291-74dc-4525-b778-426128e19882",
   "metadata": {},
   "outputs": [
    {
     "data": {
      "text/plain": [
       "'\\n\\n<!DOCTYPE html>\\n<html\\n    xmlns:og=\"http://ogp.me/ns#\"\\n    xmlns:fb=\"http://www.facebook.com/2008/'"
      ]
     },
     "execution_count": 3,
     "metadata": {},
     "output_type": "execute_result"
    }
   ],
   "source": [
    "results.status_code\n",
    "results.text[:100]"
   ]
  },
  {
   "cell_type": "code",
   "execution_count": 4,
   "id": "b5d2c195-a186-44b5-985a-f87bd814856e",
   "metadata": {},
   "outputs": [
    {
     "name": "stdout",
     "output_type": "stream",
     "text": [
      "<!DOCTYPE html>\n",
      "<html xmlns:fb=\"http://www.facebook.com/2008/fbml\" xmlns:og=\"http://ogp.me/ns#\">\n",
      " <head>\n",
      "  <meta charset=\"utf-8\"/>\n",
      "  <meta content=\"IE=edge\" http-equiv=\"X-UA-Compatible\"/>\n",
      "  <script type=\"text/javascript\">\n",
      "   var IMDbTimer={starttime: new Date().getTime(),pt:'java'};\n",
      "  </script>\n",
      "  <script>\n",
      "   if (typeof uet == 'function') {\n",
      "      uet(\"bb\", \"LoadTitle\", {wb: 1});\n",
      "    }\n",
      "  </script>\n",
      "  <script>\n",
      "   (function(t){ (t.events = t.events || {})[\"csm_head_pre_title\"] = new Date().getTime(); })(IMDbTimer);\n",
      "  </script>\n",
      "  <title>\n",
      "   IMDb \"Top 1000\"\n",
      "(Sorted by Popularity Ascending) - IMDb\n",
      "  </title>\n",
      "  <script>\n",
      "   (function(t){ (t.events = t.events || {})[\"csm_head_post_title\"] = new Date().getTime(); })(IMDbTimer);\n",
      "  </script>\n",
      "  <script>\n",
      "   if (typeof uet == 'function') {\n",
      "      uet(\"be\", \"LoadTitle\", {wb: 1});\n",
      "    }\n",
      "  </script>\n",
      "  <script>\n",
      "   if (typeof uex == 'function') {\n",
      "      uex(\"ld\", \"LoadTitle\", {wb: 1});\n",
      "    }\n",
      "  </script>\n",
      "  <link href=\"https://www.imdb.com/search/title/?groups=\n"
     ]
    }
   ],
   "source": [
    "soup = BeautifulSoup(results.text, \"html.parser\")\n",
    "print(soup.prettify()[:1000])"
   ]
  },
  {
   "cell_type": "code",
   "execution_count": 5,
   "id": "6c5643a5-705e-4048-a6d0-77f0b9a94275",
   "metadata": {},
   "outputs": [],
   "source": [
    "# initialize empty lists where you'll store your data\n",
    "titles = []\n",
    "years = []\n",
    "time = []\n",
    "imdb_ratings = []\n",
    "metascores = []\n",
    "votes = []\n",
    "us_gross = []\n",
    "genres = []\n",
    "directors = []\n",
    "stars = []\n",
    "rankings = []\n",
    "links = []"
   ]
  },
  {
   "cell_type": "code",
   "execution_count": 6,
   "id": "3d225394-91d5-4c4d-bf65-0f995199d59f",
   "metadata": {},
   "outputs": [
    {
     "data": {
      "text/plain": [
       "50"
      ]
     },
     "execution_count": 6,
     "metadata": {},
     "output_type": "execute_result"
    }
   ],
   "source": [
    "movie_div = soup.find_all('div', class_='lister-item mode-advanced')\n",
    "#print(movie_div[0].prettify())\n",
    "len(movie_div)"
   ]
  }
 ],
 "metadata": {
  "kernelspec": {
   "display_name": "Python 3 (ipykernel)",
   "language": "python",
   "name": "python3"
  },
  "language_info": {
   "codemirror_mode": {
    "name": "ipython",
    "version": 3
   },
   "file_extension": ".py",
   "mimetype": "text/x-python",
   "name": "python",
   "nbconvert_exporter": "python",
   "pygments_lexer": "ipython3",
   "version": "3.9.5"
  }
 },
 "nbformat": 4,
 "nbformat_minor": 5
}
