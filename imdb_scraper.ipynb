{
 "cells": [
  {
   "cell_type": "code",
   "execution_count": 1,
   "id": "5335e262-2baa-4b8f-95be-e157c6b30c8b",
   "metadata": {},
   "outputs": [],
   "source": [
    "# import libraries\n",
    "import requests\n",
    "from bs4 import BeautifulSoup\n",
    "import pandas as pd\n",
    "import numpy as np\n",
    "from time import sleep\n",
    "from random import randint"
   ]
  },
  {
   "cell_type": "code",
   "execution_count": 2,
   "id": "6c5643a5-705e-4048-a6d0-77f0b9a94275",
   "metadata": {},
   "outputs": [],
   "source": [
    "# initialize empty lists where you'll store your data\n",
    "titles = []\n",
    "years = []\n",
    "time = []\n",
    "imdb_ratings = []\n",
    "metascores = []\n",
    "votes = []\n",
    "us_gross = []"
   ]
  },
  {
   "cell_type": "code",
   "execution_count": 3,
   "id": "dd1f831e-fa8c-4175-ad9c-8acea8d25c6c",
   "metadata": {},
   "outputs": [],
   "source": [
    "# function for extracting number in a string\n",
    "def extract_number(inputString):\n",
    "    out = ''\n",
    "    for char in inputString:\n",
    "        if char.isdigit():\n",
    "            out = out + char\n",
    "    return int(out)"
   ]
  },
  {
   "cell_type": "code",
   "execution_count": 4,
   "id": "906b41a6-81ee-4ad2-b4b7-f6deda7a1fe0",
   "metadata": {},
   "outputs": [],
   "source": [
    "# function for extracting float number in a string\n",
    "def extract_float(inputString):\n",
    "    out = ''\n",
    "    for char in inputString:\n",
    "        if char.isdigit() or char == '.':\n",
    "            out = out + char\n",
    "    return float(out)"
   ]
  },
  {
   "cell_type": "code",
   "execution_count": 5,
   "id": "3aa740f5-fbc7-4c3d-829a-0d3f8294c61c",
   "metadata": {},
   "outputs": [],
   "source": [
    "# get first page url\n",
    "base_url = \"https://www.imdb.com\"\n",
    "url = \"https://www.imdb.com/search/title/?groups=top_1000&ref_=adv_prv\""
   ]
  },
  {
   "cell_type": "code",
   "execution_count": 6,
   "id": "b91ff257-c5db-4cc6-94f2-91b1af1ca348",
   "metadata": {},
   "outputs": [
    {
     "name": "stdout",
     "output_type": "stream",
     "text": [
      "Getting data from https://www.imdb.com/search/title/?groups=top_1000&ref_=adv_prv\n",
      "Getting data from https://www.imdb.com/search/title/?groups=top_1000&start=51\n",
      "Getting data from https://www.imdb.com/search/title/?groups=top_1000&start=101\n",
      "Getting data from https://www.imdb.com/search/title/?groups=top_1000&start=151\n",
      "Getting data from https://www.imdb.com/search/title/?groups=top_1000&start=201\n",
      "Getting data from https://www.imdb.com/search/title/?groups=top_1000&start=251\n",
      "Getting data from https://www.imdb.com/search/title/?groups=top_1000&start=301\n",
      "Getting data from https://www.imdb.com/search/title/?groups=top_1000&start=351\n",
      "Getting data from https://www.imdb.com/search/title/?groups=top_1000&start=401\n",
      "Getting data from https://www.imdb.com/search/title/?groups=top_1000&start=451\n",
      "Getting data from https://www.imdb.com/search/title/?groups=top_1000&start=501\n",
      "Getting data from https://www.imdb.com/search/title/?groups=top_1000&start=551\n",
      "Getting data from https://www.imdb.com/search/title/?groups=top_1000&start=601\n",
      "Getting data from https://www.imdb.com/search/title/?groups=top_1000&start=651\n",
      "Getting data from https://www.imdb.com/search/title/?groups=top_1000&start=701\n",
      "Getting data from https://www.imdb.com/search/title/?groups=top_1000&start=751\n",
      "Getting data from https://www.imdb.com/search/title/?groups=top_1000&start=801\n",
      "Getting data from https://www.imdb.com/search/title/?groups=top_1000&start=851\n",
      "Getting data from https://www.imdb.com/search/title/?groups=top_1000&start=901\n",
      "Getting data from https://www.imdb.com/search/title/?groups=top_1000&start=951\n"
     ]
    }
   ],
   "source": [
    "while url:\n",
    "    print(f'Getting data from {url}')\n",
    "    headers = {\"Accept-Language\": \"en-US, en;q=0.5\"}\n",
    "    results = requests.get(url, headers=headers)\n",
    "    # beautiful soup\n",
    "    soup = BeautifulSoup(results.text, \"html.parser\")\n",
    "    movie_div = soup.find_all('div', class_='lister-item mode-advanced')\n",
    "    # scraping data\n",
    "    for container in movie_div:\n",
    "\n",
    "        name = container.h3.a.text if container.h3.a else None\n",
    "        titles.append(name)\n",
    "\n",
    "        year = extract_number(container.h3.find('span', class_='lister-item-year').text) if container.h3.find('span', class_='lister-item-year') else None\n",
    "        years.append(year)\n",
    "\n",
    "        runtime = extract_number(container.p.find('span', class_='runtime').text) if container.p.find('span', class_='runtime') else None\n",
    "        time.append(runtime)\n",
    "\n",
    "        rating = float(container.strong.text) if container.strong else None\n",
    "        imdb_ratings.append(rating)\n",
    "\n",
    "        meta_score = int(container.find('span', class_='metascore').text) if container.find('span', class_='metascore') else None\n",
    "        metascores.append(meta_score)\n",
    "\n",
    "        nv = container.find_all('span', attrs={'name': 'nv'})\n",
    "        gross = None\n",
    "        vote = None\n",
    "        for elem in nv:\n",
    "            inp = elem.text\n",
    "            if '$' in inp:\n",
    "                gross = extract_float(inp)\n",
    "            elif '#' not in inp:\n",
    "                vote = extract_number(inp)\n",
    "        votes.append(vote)\n",
    "        us_gross.append(gross)\n",
    "    next_url = soup.find(class_='lister-page-next next-page')\n",
    "    if next_url:\n",
    "        url = f\"{base_url}{next_url['href']}\"\n",
    "    else:\n",
    "        url = None\n",
    "    sleep(randint(1,5))"
   ]
  },
  {
   "cell_type": "code",
   "execution_count": 7,
   "id": "ff418baa-18b3-421d-8f47-f0aba5d17925",
   "metadata": {},
   "outputs": [],
   "source": [
    "# create dataframe\n",
    "movies = pd.DataFrame({\n",
    "'movie': titles,\n",
    "'year': years,\n",
    "'timeMin': time,\n",
    "'imdb': imdb_ratings,\n",
    "'metascore': metascores,\n",
    "'votes': votes,\n",
    "'us_grossMillions': us_gross,\n",
    "})"
   ]
  },
  {
   "cell_type": "code",
   "execution_count": 8,
   "id": "954abb6d-9fe1-4247-90ef-bb17cbd42a72",
   "metadata": {},
   "outputs": [],
   "source": [
    "# save to csv\n",
    "movies.to_csv('movies.csv', index=False)"
   ]
  }
 ],
 "metadata": {
  "kernelspec": {
   "display_name": "Python 3 (ipykernel)",
   "language": "python",
   "name": "python3"
  },
  "language_info": {
   "codemirror_mode": {
    "name": "ipython",
    "version": 3
   },
   "file_extension": ".py",
   "mimetype": "text/x-python",
   "name": "python",
   "nbconvert_exporter": "python",
   "pygments_lexer": "ipython3",
   "version": "3.9.5"
  }
 },
 "nbformat": 4,
 "nbformat_minor": 5
}
